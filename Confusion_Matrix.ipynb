{
  "nbformat": 4,
  "nbformat_minor": 0,
  "metadata": {
    "colab": {
      "name": "Confusion Matrix",
      "provenance": [],
      "collapsed_sections": []
    },
    "kernelspec": {
      "name": "python3",
      "display_name": "Python 3"
    }
  },
  "cells": [
    {
      "cell_type": "code",
      "metadata": {
        "colab": {
          "base_uri": "https://localhost:8080/"
        },
        "id": "wlCl4YyMDjkd",
        "outputId": "cc281bd0-d115-457e-9f27-85bbb4702c04"
      },
      "source": [
        "import pandas as pd\n",
        "from google.colab import drive\n",
        "drive.mount('/content/drive')\n",
        "path = \"/content/drive/MyDrive/Dataset/nm4.csv\"\n",
        "path2 = \"/content/drive/MyDrive/Dataset/m4t.csv\"\n",
        "\n",
        "\n",
        "dataframe = pd.read_csv(path)\n",
        "dft = pd.read_csv(path2)\n"
      ],
      "execution_count": 1,
      "outputs": [
        {
          "output_type": "stream",
          "text": [
            "Mounted at /content/drive\n"
          ],
          "name": "stdout"
        }
      ]
    },
    {
      "cell_type": "code",
      "metadata": {
        "id": "iYOgvuB3DljX"
      },
      "source": [
        "from sklearn import tree\n",
        "from sklearn.linear_model import LinearRegression\n",
        "from sklearn.neighbors import KNeighborsClassifier\n",
        "from sklearn import svm\n",
        "from sklearn.linear_model import LinearRegression\n",
        "from sklearn.ensemble import RandomForestClassifier\n",
        "from sklearn.neighbors import KNeighborsClassifier\n",
        "from sklearn.naive_bayes import GaussianNB\n",
        "from sklearn.model_selection import train_test_split\n",
        "\n",
        "k = 1\n",
        "knn_classifier = KNeighborsClassifier(n_neighbors=k)\n",
        "dt_classifier = tree.DecisionTreeClassifier()\n",
        "svc_classifier = svm.SVC()\n",
        "lr_classifier = LinearRegression()\n",
        "ram_dt_classifier = RandomForestClassifier()\n",
        "gnb_classifier = GaussianNB()"
      ],
      "execution_count": 4,
      "outputs": []
    },
    {
      "cell_type": "code",
      "metadata": {
        "colab": {
          "base_uri": "https://localhost:8080/"
        },
        "id": "H2UU0h_BDnez",
        "outputId": "27f5c644-168f-4736-86ac-fb4eb6449aac"
      },
      "source": [
        "test=dataframe.to_numpy()\n",
        "ob = dft.to_numpy()\n",
        "\n",
        "X = test[:, 0:12] \n",
        "y = test[:, 11]\n",
        "x_train, x_test,y_train, y_test = train_test_split(X, y,test_size=0.2,random_state = 42)\n",
        "print(X.shape)\n",
        "print(y.shape)"
      ],
      "execution_count": 5,
      "outputs": [
        {
          "output_type": "stream",
          "text": [
            "(399, 12)\n",
            "(399,)\n"
          ],
          "name": "stdout"
        }
      ]
    },
    {
      "cell_type": "code",
      "metadata": {
        "id": "G4iT08u7D4Iy"
      },
      "source": [
        "knn_classifier.fit(x_train, y_train)\n",
        "knn_y_pred = knn_classifier.predict(x_train)\n",
        "\n",
        "ram_dt_classifier.fit(x_train, y_train)\n",
        "ran_dt_y_pred = ram_dt_classifier.predict(x_train)\n",
        "\n",
        "gnb_classifier.fit(x_train, y_train)\n",
        "gnb_y_pred = gnb_classifier.predict(x_train)\n",
        "\n",
        "svc_classifier.fit(x_train, y_train)\n",
        "svc_y_pred = svc_classifier.predict(x_train)\n",
        "\n",
        "dt_classifier.fit(x_train, y_train)\n",
        "dt_y_pred = dt_classifier.predict(x_train)"
      ],
      "execution_count": 8,
      "outputs": []
    },
    {
      "cell_type": "code",
      "metadata": {
        "colab": {
          "base_uri": "https://localhost:8080/"
        },
        "id": "yEV0mzZmbrM-",
        "outputId": "d48e9cc7-20bd-43e7-fe74-0318b4c5c567"
      },
      "source": [
        "from sklearn.metrics import confusion_matrix\n",
        "print(\"Depression\")\n",
        "print(\"\\t\")\n",
        "print(\"knn\")\n",
        "print(confusion_matrix(knn_y_pred, y_train))\n",
        "print(\"\\t\")\n",
        "print(\"ram\")\n",
        "print(confusion_matrix(ran_dt_y_pred, y_train))\n",
        "print(\"\\t\")\n",
        "print(\"gnb\")\n",
        "print(confusion_matrix(gnb_y_pred, y_train))\n",
        "print(\"\\t\")\n",
        "print(\"svc\")\n",
        "print(confusion_matrix(svc_y_pred, y_train))\n",
        "print(\"\\t\")\n",
        "print(\"dt\")\n",
        "print(confusion_matrix(dt_y_pred, y_train))\n"
      ],
      "execution_count": 11,
      "outputs": [
        {
          "output_type": "stream",
          "text": [
            "Depression\n",
            "\t\n",
            "knn\n",
            "[[296   0]\n",
            " [  0  23]]\n",
            "\t\n",
            "ram\n",
            "[[296   0]\n",
            " [  0  23]]\n",
            "\t\n",
            "gnb\n",
            "[[296   0]\n",
            " [  0  23]]\n",
            "\t\n",
            "svc\n",
            "[[296  14]\n",
            " [  0   9]]\n",
            "\t\n",
            "dt\n",
            "[[296   0]\n",
            " [  0  23]]\n"
          ],
          "name": "stdout"
        }
      ]
    },
    {
      "cell_type": "code",
      "metadata": {
        "id": "mlTsHdpVh8Yz"
      },
      "source": [
        "test=dataframe.to_numpy()\n",
        "ob = dft.to_numpy()\n",
        "\n",
        "X = test[:, 0:13] \n",
        "y = test[:, 12]\n",
        "x_train, x_test,y_train, y_test = train_test_split(X, y,test_size=0.2,random_state = 42)\n"
      ],
      "execution_count": 12,
      "outputs": []
    },
    {
      "cell_type": "code",
      "metadata": {
        "colab": {
          "base_uri": "https://localhost:8080/"
        },
        "id": "J1JmE6ASijoq",
        "outputId": "dd57bac1-fcc6-4301-d111-220e55beb941"
      },
      "source": [
        "from sklearn.metrics import confusion_matrix\n",
        "print(\"Anxiety\")\n",
        "print(\"\\t\")\n",
        "print(\"knn\")\n",
        "print(confusion_matrix(knn_y_pred, y_train))\n",
        "print(\"\\t\")\n",
        "print(\"ram\")\n",
        "print(confusion_matrix(ran_dt_y_pred, y_train))\n",
        "print(\"\\t\")\n",
        "print(\"gnb\")\n",
        "print(confusion_matrix(gnb_y_pred, y_train))\n",
        "print(\"\\t\")\n",
        "print(\"svc\")\n",
        "print(confusion_matrix(svc_y_pred, y_train))\n",
        "print(\"\\t\")\n",
        "print(\"dt\")\n",
        "print(confusion_matrix(dt_y_pred, y_train))\n"
      ],
      "execution_count": 13,
      "outputs": [
        {
          "output_type": "stream",
          "text": [
            "Anxiety\n",
            "\t\n",
            "knn\n",
            "[[285  11]\n",
            " [ 18   5]]\n",
            "\t\n",
            "ram\n",
            "[[285  11]\n",
            " [ 18   5]]\n",
            "\t\n",
            "gnb\n",
            "[[285  11]\n",
            " [ 18   5]]\n",
            "\t\n",
            "svc\n",
            "[[297  13]\n",
            " [  6   3]]\n",
            "\t\n",
            "dt\n",
            "[[285  11]\n",
            " [ 18   5]]\n"
          ],
          "name": "stdout"
        }
      ]
    },
    {
      "cell_type": "code",
      "metadata": {
        "id": "RYz9iHHVimiL"
      },
      "source": [
        "test=dataframe.to_numpy()\n",
        "ob = dft.to_numpy()\n",
        "\n",
        "X = test[:, 0:14] \n",
        "y = test[:, 13]\n",
        "x_train, x_test,y_train, y_test = train_test_split(X, y,test_size=0.2,random_state = 42)"
      ],
      "execution_count": 20,
      "outputs": []
    },
    {
      "cell_type": "code",
      "metadata": {
        "colab": {
          "base_uri": "https://localhost:8080/"
        },
        "id": "imxC3nDldoAI",
        "outputId": "39e468da-f4ec-4443-b6b8-aadf91b0807b"
      },
      "source": [
        "print(X)\n",
        "print(y)"
      ],
      "execution_count": 21,
      "outputs": [
        {
          "output_type": "stream",
          "text": [
            "[[1 3 4 ... 1 0 0]\n",
            " [7 2 3 ... 0 0 0]\n",
            " [7 3 3 ... 0 0 0]\n",
            " ...\n",
            " [3 2 3 ... 0 0 0]\n",
            " [2 4 3 ... 0 0 0]\n",
            " [2 4 3 ... 0 0 0]]\n",
            "[0 0 0 0 1 0 0 0 0 0 0 0 1 0 0 0 0 0 0 0 0 0 0 0 0 0 0 0 0 0 0 0 0 0 0 0 0\n",
            " 0 0 0 0 0 0 0 0 0 0 0 0 0 1 0 0 0 0 0 0 0 0 0 0 0 0 0 1 0 0 0 0 0 0 1 0 0\n",
            " 0 0 0 0 0 0 0 0 0 0 0 0 0 0 0 0 0 0 0 0 0 0 0 0 0 0 0 0 0 0 0 0 0 0 0 0 0\n",
            " 0 0 0 0 0 1 0 0 0 0 0 0 0 1 0 0 0 0 0 0 0 1 1 0 1 1 0 0 0 1 0 1 1 1 1 1 0\n",
            " 0 0 0 0 0 0 0 0 1 0 0 0 0 0 0 0 0 0 0 0 0 0 0 0 0 0 0 0 0 0 0 0 0 0 0 0 0\n",
            " 0 0 0 0 0 0 0 1 0 0 0 0 0 0 0 0 0 0 0 0 0 0 0 0 0 0 0 0 0 0 0 0 0 0 0 0 0\n",
            " 0 0 0 0 0 0 0 0 0 0 0 0 0 0 0 0 0 0 0 0 0 0 0 0 0 0 0 0 0 0 0 0 0 0 0 0 0\n",
            " 0 0 0 0 0 0 0 0 0 0 0 0 0 0 0 0 0 0 0 0 0 0 0 0 0 0 0 0 0 0 0 0 0 0 0 0 0\n",
            " 0 1 0 0 0 0 0 0 1 0 0 0 0 0 0 0 1 0 0 0 0 1 0 0 0 1 1 0 0 0 0 0 0 0 0 0 0\n",
            " 0 0 0 0 0 0 0 0 0 0 0 0 0 0 0 0 0 0 0 1 0 0 0 0 1 0 0 0 0 0 1 1 1 1 0 0 0\n",
            " 0 1 1 0 1 1 0 0 0 1 1 0 0 0 0 0 0 1 0 0 0 0 0 0 0 1 0 0 0]\n"
          ],
          "name": "stdout"
        }
      ]
    },
    {
      "cell_type": "code",
      "metadata": {
        "colab": {
          "base_uri": "https://localhost:8080/"
        },
        "id": "LLtzDtn4ipHf",
        "outputId": "526236d6-f57c-4f03-fb03-5f6b9d1209d8"
      },
      "source": [
        "from sklearn.metrics import confusion_matrix\n",
        "print(\"Stress\")\n",
        "print(\"\\t\")\n",
        "print(\"knn\")\n",
        "print(confusion_matrix(knn_y_pred, y_train))\n",
        "print(\"\\t\")\n",
        "print(\"ram\")\n",
        "print(confusion_matrix(ran_dt_y_pred, y_train))\n",
        "print(\"\\t\")\n",
        "print(\"gnb\")\n",
        "print(confusion_matrix(gnb_y_pred, y_train))\n",
        "print(\"\\t\")\n",
        "print(\"svc\")\n",
        "print(confusion_matrix(svc_y_pred, y_train))\n",
        "print(\"\\t\")\n",
        "print(\"dt\")\n",
        "print(confusion_matrix(dt_y_pred, y_train))"
      ],
      "execution_count": 22,
      "outputs": [
        {
          "output_type": "stream",
          "text": [
            "Stress\n",
            "\t\n",
            "knn\n",
            "[[279  17]\n",
            " [ 11  12]]\n",
            "\t\n",
            "ram\n",
            "[[279  17]\n",
            " [ 11  12]]\n",
            "\t\n",
            "gnb\n",
            "[[279  17]\n",
            " [ 11  12]]\n",
            "\t\n",
            "svc\n",
            "[[288  22]\n",
            " [  2   7]]\n",
            "\t\n",
            "dt\n",
            "[[279  17]\n",
            " [ 11  12]]\n"
          ],
          "name": "stdout"
        }
      ]
    },
    {
      "cell_type": "code",
      "metadata": {
        "colab": {
          "base_uri": "https://localhost:8080/"
        },
        "id": "ZMbN3Stgenqt",
        "outputId": "ee4ad3d0-6807-439f-b25e-863e389b6042"
      },
      "source": [
        "ser = pd.Series(pd.Categorical(['a', 'b', 'a']))\n",
        "a=ser.to_numpy()\n",
        "print(ser)\n",
        "print(\"\\t\")\n",
        "print(a)"
      ],
      "execution_count": 26,
      "outputs": [
        {
          "output_type": "stream",
          "text": [
            "0    a\n",
            "1    b\n",
            "2    a\n",
            "dtype: category\n",
            "Categories (2, object): ['a', 'b']\n",
            "\t\n",
            "['a' 'b' 'a']\n"
          ],
          "name": "stdout"
        }
      ]
    }
  ]
}